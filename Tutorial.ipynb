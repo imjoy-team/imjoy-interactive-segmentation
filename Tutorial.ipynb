{
 "cells": [
  {
   "cell_type": "markdown",
   "metadata": {},
   "source": [
    "# Setup for Google Colab\n",
    "(Skip this step if you are running in a Jupyter notebook)\n",
    "\n",
    "**Note: please make sure you switched on GPU runtime by choosing \"Runtime -> Change runtime type -> Hardware accelerator -> GPU\" and click \"Save\"**"
   ]
  },
  {
   "cell_type": "code",
   "execution_count": null,
   "metadata": {},
   "outputs": [],
   "source": [
    "!git clone https://github.com/imjoy-team/imjoy-interactive-segmentation.git\n",
    "%cd imjoy-interactive-segmentation\n",
    "!pip install -r requirements.txt\n",
    "!python3 -m ipykernel install --user --name imjoy-interactive-ml --display-name \"ImJoy Interactive ML\""
   ]
  },
  {
   "cell_type": "markdown",
   "metadata": {},
   "source": [
    "# Setup for Jupyter notebook\n",
    "(Skip this step for Google Colab)\n",
    "\n",
    "Please make sure you installed the ImJoy extension by running `pip install imjoy imjoy-jupyter-extension`. After installing, restart your Jupyter notebook.\n",
    "\n",
    "**Note: Before start, please make sure you see an ImJoy icon in the toolbar.**\n"
   ]
  },
  {
   "cell_type": "markdown",
   "metadata": {},
   "source": [
    "# Download example dataset\n",
    "\n",
    "The dataset will be saved to `./data/hpa_dataset_v2`"
   ]
  },
  {
   "cell_type": "code",
   "execution_count": null,
   "metadata": {},
   "outputs": [],
   "source": [
    "!python download_example_dataset.py"
   ]
  },
  {
   "cell_type": "markdown",
   "metadata": {},
   "source": [
    "# Start the interactive segmentation interface"
   ]
  },
  {
   "cell_type": "code",
   "execution_count": null,
   "metadata": {
    "scrolled": false
   },
   "outputs": [],
   "source": [
    "from imjoy_plugin import start_interactive_segmentation\n",
    "\n",
    "model_config = dict( type=\"cellpose\",\n",
    "                     model_dir='./data/hpa_dataset_v2/__models__',\n",
    "                     use_gpu=True,\n",
    "                     channels=[2, 3],\n",
    "                     style_on=0,\n",
    "                     batch_size=1,\n",
    "                     default_diameter=100,\n",
    "                     pretrained_model=False,\n",
    "                     resume=False)\n",
    "\n",
    "start_interactive_segmentation(model_config,\n",
    "                               \"./data/hpa_dataset_v2\",\n",
    "                               [\"microtubules.png\", \"er.png\", \"nuclei.png\"],\n",
    "                               object_name=\"cell\",\n",
    "                               scale_factor=1.0)"
   ]
  },
  {
   "cell_type": "markdown",
   "metadata": {},
   "source": [
    "# Interact with the trainer"
   ]
  },
  {
   "cell_type": "code",
   "execution_count": null,
   "metadata": {
    "scrolled": false
   },
   "outputs": [],
   "source": [
    "from interactive_trainer import InteractiveTrainer\n",
    "trainer = InteractiveTrainer.get_instance()"
   ]
  },
  {
   "cell_type": "code",
   "execution_count": null,
   "metadata": {
    "scrolled": false
   },
   "outputs": [],
   "source": [
    "reports = trainer.get_reports()\n",
    "import matplotlib.pyplot as plt\n",
    "loss = [report['loss'] for report in reports]\n",
    "plt.plot(loss)"
   ]
  },
  {
   "cell_type": "code",
   "execution_count": null,
   "metadata": {},
   "outputs": [],
   "source": [
    "reports"
   ]
  },
  {
   "cell_type": "code",
   "execution_count": null,
   "metadata": {},
   "outputs": [],
   "source": [
    "trainer.stop()"
   ]
  },
  {
   "cell_type": "code",
   "execution_count": null,
   "metadata": {},
   "outputs": [],
   "source": [
    "image, _, info = trainer.get_test_sample()\n",
    "print(str(image.shape))\n",
    "image.shape,info"
   ]
  },
  {
   "cell_type": "code",
   "execution_count": null,
   "metadata": {},
   "outputs": [],
   "source": [
    "x, y, info = trainer.get_training_sample()"
   ]
  },
  {
   "cell_type": "code",
   "execution_count": null,
   "metadata": {},
   "outputs": [],
   "source": [
    "import matplotlib.pyplot as plt\n",
    "plt.imshow(x)\n",
    "plt.figure()\n",
    "plt.imshow(y)"
   ]
  },
  {
   "cell_type": "code",
   "execution_count": null,
   "metadata": {},
   "outputs": [],
   "source": []
  }
 ],
 "metadata": {
  "kernelspec": {
   "display_name": "ImJoy Interactive ML",
   "language": "python",
   "name": "imjoy-interactive-ml"
  },
  "language_info": {
   "codemirror_mode": {
    "name": "ipython",
    "version": 3
   },
   "file_extension": ".py",
   "mimetype": "text/x-python",
   "name": "python",
   "nbconvert_exporter": "python",
   "pygments_lexer": "ipython3",
   "version": "3.7.9"
  }
 },
 "nbformat": 4,
 "nbformat_minor": 4
}
