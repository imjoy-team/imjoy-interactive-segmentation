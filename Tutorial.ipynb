{
  "nbformat": 4,
  "nbformat_minor": 0,
  "metadata": {
    "kernelspec": {
      "display_name": "ImJoy Iteractive ML",
      "language": "python",
      "name": "imjoy-iteractive-ml"
    },
    "language_info": {
      "codemirror_mode": {
        "name": "ipython",
        "version": 3
      },
      "file_extension": ".py",
      "mimetype": "text/x-python",
      "name": "python",
      "nbconvert_exporter": "python",
      "pygments_lexer": "ipython3",
      "version": "3.7.2"
    },
    "colab": {
      "name": "Copy of Tutorial.ipynb",
      "provenance": []
    },
    "accelerator": "GPU"
  },
  "cells": [
    {
      "cell_type": "markdown",
      "metadata": {
        "id": "8FGRWFuHhfa1"
      },
      "source": [
        "# Setup for Google Colab\n",
        "(Skip this step if you are running in a Jupyter notebook)\n",
        "\n",
        "**Note: please make sure you switched on GPU runtime by choosing \"Runtime -> Change runtime type -> Hardware accelerator -> GPU\" and click \"Save\"**"
      ]
    },
    {
      "cell_type": "code",
      "metadata": {
        "id": "PPVSBr9Hhfa7"
      },
      "source": [
        "!pip install git+https://github.com/imjoy-team/imjoy-interactive-segmentation@master#egg=imjoy-interactive-trainer\n",
        "!python3 -m ipykernel install --user --name imjoy-interactive-ml --display-name \"ImJoy Interactive ML\""
      ],
      "execution_count": null,
      "outputs": []
    },
    {
      "cell_type": "markdown",
      "metadata": {
        "id": "1n8XlhbFhfa8"
      },
      "source": [
        "# Setup for Jupyter notebook\n",
        "(Skip this step for Google Colab)\n",
        "\n",
        "Please make sure you installed the ImJoy extension by running `pip install imjoy imjoy-jupyter-extension`. After installing, restart your Jupyter notebook.\n",
        "\n",
        "**Note: Before start, please make sure you see an ImJoy icon in the toolbar.**\n"
      ]
    },
    {
      "cell_type": "markdown",
      "metadata": {
        "id": "Wg_nM4vFhfa8"
      },
      "source": [
        "# Download example dataset\n",
        "\n",
        "The dataset will be saved to `./data/hpa_dataset_v2`"
      ]
    },
    {
      "cell_type": "code",
      "metadata": {
        "id": "WFLpclpFhfa9"
      },
      "source": [
        "from imjoy_interactive_trainer.data_utils import download_example_dataset\n",
        "download_example_dataset()"
      ],
      "execution_count": null,
      "outputs": []
    },
    {
      "cell_type": "markdown",
      "metadata": {
        "id": "02h6N9ABhfa9"
      },
      "source": [
        "# Start the interactive segmentation interface"
      ]
    },
    {
      "cell_type": "code",
      "metadata": {
        "scrolled": false,
        "id": "lHBBsftChfa9"
      },
      "source": [
        "from imjoy_interactive_trainer.imjoy_plugin import start_interactive_segmentation\n",
        "\n",
        "model_config = dict( type=\"cellpose\",\n",
        "                     model_dir='./data/hpa_dataset_v2/__models__',\n",
        "                     use_gpu=True,\n",
        "                     channels=[2, 3],\n",
        "                     style_on=0,\n",
        "                     batch_size=1,\n",
        "                     default_diameter=100,\n",
        "                     pretrained_model=False,\n",
        "                     resume=False)\n",
        "\n",
        "start_interactive_segmentation(model_config,\n",
        "                               \"./data/hpa_dataset_v2\",\n",
        "                               [\"microtubules.png\", \"er.png\", \"nuclei.png\"],\n",
        "                               object_name=\"cell\",\n",
        "                               scale_factor=1.0)"
      ],
      "execution_count": null,
      "outputs": []
    },
    {
      "cell_type": "markdown",
      "metadata": {
        "id": "GUtgfJb9hfa-"
      },
      "source": [
        "# Interact with the trainer"
      ]
    },
    {
      "cell_type": "code",
      "metadata": {
        "scrolled": false,
        "id": "PmVWrp8Jhfa-"
      },
      "source": [
        "from imjoy_interactive_trainer.interactive_trainer import InteractiveTrainer\n",
        "trainer = InteractiveTrainer.get_instance()"
      ],
      "execution_count": null,
      "outputs": []
    },
    {
      "cell_type": "code",
      "metadata": {
        "scrolled": false,
        "id": "9tlTAc8whfa-"
      },
      "source": [
        "reports = trainer.get_reports()\n",
        "import matplotlib.pyplot as plt\n",
        "loss = [report['loss'] for report in reports]\n",
        "plt.plot(loss)"
      ],
      "execution_count": null,
      "outputs": []
    },
    {
      "cell_type": "code",
      "metadata": {
        "id": "pLKa4znfhfa-"
      },
      "source": [
        "reports"
      ],
      "execution_count": null,
      "outputs": []
    },
    {
      "cell_type": "code",
      "metadata": {
        "id": "9nytSEsBhfa_"
      },
      "source": [
        "trainer.stop()"
      ],
      "execution_count": null,
      "outputs": []
    },
    {
      "cell_type": "code",
      "metadata": {
        "id": "fmGhY8_ahfa_"
      },
      "source": [
        "image, _, info = trainer.get_test_sample()\n",
        "print(str(image.shape))\n",
        "image.shape,info"
      ],
      "execution_count": null,
      "outputs": []
    },
    {
      "cell_type": "code",
      "metadata": {
        "id": "vGWSS32uhfa_"
      },
      "source": [
        "x, y, info = trainer.get_training_sample()"
      ],
      "execution_count": null,
      "outputs": []
    },
    {
      "cell_type": "code",
      "metadata": {
        "id": "yBlZrlwIhfa_"
      },
      "source": [
        "import matplotlib.pyplot as plt\n",
        "plt.imshow(x)\n",
        "plt.figure()\n",
        "plt.imshow(y)"
      ],
      "execution_count": null,
      "outputs": []
    },
    {
      "cell_type": "code",
      "metadata": {
        "id": "23Rl-9YRhfa_"
      },
      "source": [
        ""
      ],
      "execution_count": null,
      "outputs": []
    }
  ]
}